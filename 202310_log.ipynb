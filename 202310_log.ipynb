{
 "cells": [
  {
   "cell_type": "code",
   "execution_count": 13,
   "id": "09952830-9fe3-4d67-b41e-22e2419d0e4b",
   "metadata": {},
   "outputs": [],
   "source": [
    "from pydub import AudioSegment\n",
    "from pydub.playback import play"
   ]
  },
  {
   "cell_type": "code",
   "execution_count": 10,
   "id": "614640a1-10e4-48a5-8bb3-4c04df90d896",
   "metadata": {},
   "outputs": [],
   "source": [
    "from playsound import playsound"
   ]
  },
  {
   "cell_type": "code",
   "execution_count": 16,
   "id": "b85a7f77-a54a-4886-9fcc-382899891b30",
   "metadata": {
    "tags": []
   },
   "outputs": [],
   "source": [
    "wow_file = '../resources/wow-sound-effect.mp3'"
   ]
  },
  {
   "cell_type": "code",
   "execution_count": 17,
   "id": "46eda9a4-583b-46f2-8d04-736e473b0ecf",
   "metadata": {},
   "outputs": [
    {
     "ename": "ModuleNotFoundError",
     "evalue": "No module named 'pygame'",
     "output_type": "error",
     "traceback": [
      "\u001b[0;31m---------------------------------------------------------------------------\u001b[0m",
      "\u001b[0;31mModuleNotFoundError\u001b[0m                       Traceback (most recent call last)",
      "Cell \u001b[0;32mIn[17], line 1\u001b[0m\n\u001b[0;32m----> 1\u001b[0m \u001b[38;5;28;01mfrom\u001b[39;00m \u001b[38;5;21;01mpygame\u001b[39;00m \u001b[38;5;28;01mimport\u001b[39;00m mixer \n\u001b[1;32m      3\u001b[0m \u001b[38;5;66;03m# Starting the mixer \u001b[39;00m\n\u001b[1;32m      4\u001b[0m mixer\u001b[38;5;241m.\u001b[39minit() \n",
      "\u001b[0;31mModuleNotFoundError\u001b[0m: No module named 'pygame'"
     ]
    }
   ],
   "source": [
    "from pygame import mixer \n",
    "  \n",
    "# Starting the mixer \n",
    "mixer.init() \n",
    "  \n",
    "# Loading the song \n",
    "mixer.music.load(wow_file) \n",
    "  \n",
    "# Setting the volume \n",
    "mixer.music.set_volume(0.7) \n",
    "  \n",
    "# Start playing the song \n",
    "mixer.music.play() "
   ]
  },
  {
   "cell_type": "code",
   "execution_count": 15,
   "id": "5b0abd45-88ce-4a91-90e5-127246fe0ed3",
   "metadata": {},
   "outputs": [
    {
     "name": "stderr",
     "output_type": "stream",
     "text": [
      "/Users/yuxi/opt/anaconda3/envs/nnn/lib/python3.8/site-packages/pydub/utils.py:184: RuntimeWarning: Couldn't find ffplay or avplay - defaulting to ffplay, but may not work\n",
      "  warn(\"Couldn't find ffplay or avplay - defaulting to ffplay, but may not work\", RuntimeWarning)\n"
     ]
    },
    {
     "ename": "FileNotFoundError",
     "evalue": "[Errno 2] No such file or directory: 'ffplay'",
     "output_type": "error",
     "traceback": [
      "\u001b[0;31m---------------------------------------------------------------------------\u001b[0m",
      "\u001b[0;31mFileNotFoundError\u001b[0m                         Traceback (most recent call last)",
      "Cell \u001b[0;32mIn[15], line 2\u001b[0m\n\u001b[1;32m      1\u001b[0m song \u001b[38;5;241m=\u001b[39m AudioSegment\u001b[38;5;241m.\u001b[39mfrom_mp3(\u001b[38;5;124m'\u001b[39m\u001b[38;5;124m../resources/wow-sound-effect.wav\u001b[39m\u001b[38;5;124m'\u001b[39m)\n\u001b[0;32m----> 2\u001b[0m \u001b[43mplay\u001b[49m\u001b[43m(\u001b[49m\u001b[43msong\u001b[49m\u001b[43m)\u001b[49m\n",
      "File \u001b[0;32m~/opt/anaconda3/envs/nnn/lib/python3.8/site-packages/pydub/playback.py:71\u001b[0m, in \u001b[0;36mplay\u001b[0;34m(audio_segment)\u001b[0m\n\u001b[1;32m     68\u001b[0m \u001b[38;5;28;01melse\u001b[39;00m:\n\u001b[1;32m     69\u001b[0m     \u001b[38;5;28;01mreturn\u001b[39;00m\n\u001b[0;32m---> 71\u001b[0m \u001b[43m_play_with_ffplay\u001b[49m\u001b[43m(\u001b[49m\u001b[43maudio_segment\u001b[49m\u001b[43m)\u001b[49m\n",
      "File \u001b[0;32m~/opt/anaconda3/envs/nnn/lib/python3.8/site-packages/pydub/playback.py:16\u001b[0m, in \u001b[0;36m_play_with_ffplay\u001b[0;34m(seg)\u001b[0m\n\u001b[1;32m     14\u001b[0m \u001b[38;5;28;01mwith\u001b[39;00m NamedTemporaryFile(\u001b[38;5;124m\"\u001b[39m\u001b[38;5;124mw+b\u001b[39m\u001b[38;5;124m\"\u001b[39m, suffix\u001b[38;5;241m=\u001b[39m\u001b[38;5;124m\"\u001b[39m\u001b[38;5;124m.wav\u001b[39m\u001b[38;5;124m\"\u001b[39m) \u001b[38;5;28;01mas\u001b[39;00m f:\n\u001b[1;32m     15\u001b[0m     seg\u001b[38;5;241m.\u001b[39mexport(f\u001b[38;5;241m.\u001b[39mname, \u001b[38;5;124m\"\u001b[39m\u001b[38;5;124mwav\u001b[39m\u001b[38;5;124m\"\u001b[39m)\n\u001b[0;32m---> 16\u001b[0m     \u001b[43msubprocess\u001b[49m\u001b[38;5;241;43m.\u001b[39;49m\u001b[43mcall\u001b[49m\u001b[43m(\u001b[49m\u001b[43m[\u001b[49m\u001b[43mPLAYER\u001b[49m\u001b[43m,\u001b[49m\u001b[43m \u001b[49m\u001b[38;5;124;43m\"\u001b[39;49m\u001b[38;5;124;43m-nodisp\u001b[39;49m\u001b[38;5;124;43m\"\u001b[39;49m\u001b[43m,\u001b[49m\u001b[43m \u001b[49m\u001b[38;5;124;43m\"\u001b[39;49m\u001b[38;5;124;43m-autoexit\u001b[39;49m\u001b[38;5;124;43m\"\u001b[39;49m\u001b[43m,\u001b[49m\u001b[43m \u001b[49m\u001b[38;5;124;43m\"\u001b[39;49m\u001b[38;5;124;43m-hide_banner\u001b[39;49m\u001b[38;5;124;43m\"\u001b[39;49m\u001b[43m,\u001b[49m\u001b[43m \u001b[49m\u001b[43mf\u001b[49m\u001b[38;5;241;43m.\u001b[39;49m\u001b[43mname\u001b[49m\u001b[43m]\u001b[49m\u001b[43m)\u001b[49m\n",
      "File \u001b[0;32m~/opt/anaconda3/envs/nnn/lib/python3.8/subprocess.py:340\u001b[0m, in \u001b[0;36mcall\u001b[0;34m(timeout, *popenargs, **kwargs)\u001b[0m\n\u001b[1;32m    332\u001b[0m \u001b[38;5;28;01mdef\u001b[39;00m \u001b[38;5;21mcall\u001b[39m(\u001b[38;5;241m*\u001b[39mpopenargs, timeout\u001b[38;5;241m=\u001b[39m\u001b[38;5;28;01mNone\u001b[39;00m, \u001b[38;5;241m*\u001b[39m\u001b[38;5;241m*\u001b[39mkwargs):\n\u001b[1;32m    333\u001b[0m \u001b[38;5;250m    \u001b[39m\u001b[38;5;124;03m\"\"\"Run command with arguments.  Wait for command to complete or\u001b[39;00m\n\u001b[1;32m    334\u001b[0m \u001b[38;5;124;03m    timeout, then return the returncode attribute.\u001b[39;00m\n\u001b[1;32m    335\u001b[0m \n\u001b[0;32m   (...)\u001b[0m\n\u001b[1;32m    338\u001b[0m \u001b[38;5;124;03m    retcode = call([\"ls\", \"-l\"])\u001b[39;00m\n\u001b[1;32m    339\u001b[0m \u001b[38;5;124;03m    \"\"\"\u001b[39;00m\n\u001b[0;32m--> 340\u001b[0m     \u001b[38;5;28;01mwith\u001b[39;00m \u001b[43mPopen\u001b[49m\u001b[43m(\u001b[49m\u001b[38;5;241;43m*\u001b[39;49m\u001b[43mpopenargs\u001b[49m\u001b[43m,\u001b[49m\u001b[43m \u001b[49m\u001b[38;5;241;43m*\u001b[39;49m\u001b[38;5;241;43m*\u001b[39;49m\u001b[43mkwargs\u001b[49m\u001b[43m)\u001b[49m \u001b[38;5;28;01mas\u001b[39;00m p:\n\u001b[1;32m    341\u001b[0m         \u001b[38;5;28;01mtry\u001b[39;00m:\n\u001b[1;32m    342\u001b[0m             \u001b[38;5;28;01mreturn\u001b[39;00m p\u001b[38;5;241m.\u001b[39mwait(timeout\u001b[38;5;241m=\u001b[39mtimeout)\n",
      "File \u001b[0;32m~/opt/anaconda3/envs/nnn/lib/python3.8/subprocess.py:858\u001b[0m, in \u001b[0;36mPopen.__init__\u001b[0;34m(self, args, bufsize, executable, stdin, stdout, stderr, preexec_fn, close_fds, shell, cwd, env, universal_newlines, startupinfo, creationflags, restore_signals, start_new_session, pass_fds, encoding, errors, text)\u001b[0m\n\u001b[1;32m    854\u001b[0m         \u001b[38;5;28;01mif\u001b[39;00m \u001b[38;5;28mself\u001b[39m\u001b[38;5;241m.\u001b[39mtext_mode:\n\u001b[1;32m    855\u001b[0m             \u001b[38;5;28mself\u001b[39m\u001b[38;5;241m.\u001b[39mstderr \u001b[38;5;241m=\u001b[39m io\u001b[38;5;241m.\u001b[39mTextIOWrapper(\u001b[38;5;28mself\u001b[39m\u001b[38;5;241m.\u001b[39mstderr,\n\u001b[1;32m    856\u001b[0m                     encoding\u001b[38;5;241m=\u001b[39mencoding, errors\u001b[38;5;241m=\u001b[39merrors)\n\u001b[0;32m--> 858\u001b[0m     \u001b[38;5;28;43mself\u001b[39;49m\u001b[38;5;241;43m.\u001b[39;49m\u001b[43m_execute_child\u001b[49m\u001b[43m(\u001b[49m\u001b[43margs\u001b[49m\u001b[43m,\u001b[49m\u001b[43m \u001b[49m\u001b[43mexecutable\u001b[49m\u001b[43m,\u001b[49m\u001b[43m \u001b[49m\u001b[43mpreexec_fn\u001b[49m\u001b[43m,\u001b[49m\u001b[43m \u001b[49m\u001b[43mclose_fds\u001b[49m\u001b[43m,\u001b[49m\n\u001b[1;32m    859\u001b[0m \u001b[43m                        \u001b[49m\u001b[43mpass_fds\u001b[49m\u001b[43m,\u001b[49m\u001b[43m \u001b[49m\u001b[43mcwd\u001b[49m\u001b[43m,\u001b[49m\u001b[43m \u001b[49m\u001b[43menv\u001b[49m\u001b[43m,\u001b[49m\n\u001b[1;32m    860\u001b[0m \u001b[43m                        \u001b[49m\u001b[43mstartupinfo\u001b[49m\u001b[43m,\u001b[49m\u001b[43m \u001b[49m\u001b[43mcreationflags\u001b[49m\u001b[43m,\u001b[49m\u001b[43m \u001b[49m\u001b[43mshell\u001b[49m\u001b[43m,\u001b[49m\n\u001b[1;32m    861\u001b[0m \u001b[43m                        \u001b[49m\u001b[43mp2cread\u001b[49m\u001b[43m,\u001b[49m\u001b[43m \u001b[49m\u001b[43mp2cwrite\u001b[49m\u001b[43m,\u001b[49m\n\u001b[1;32m    862\u001b[0m \u001b[43m                        \u001b[49m\u001b[43mc2pread\u001b[49m\u001b[43m,\u001b[49m\u001b[43m \u001b[49m\u001b[43mc2pwrite\u001b[49m\u001b[43m,\u001b[49m\n\u001b[1;32m    863\u001b[0m \u001b[43m                        \u001b[49m\u001b[43merrread\u001b[49m\u001b[43m,\u001b[49m\u001b[43m \u001b[49m\u001b[43merrwrite\u001b[49m\u001b[43m,\u001b[49m\n\u001b[1;32m    864\u001b[0m \u001b[43m                        \u001b[49m\u001b[43mrestore_signals\u001b[49m\u001b[43m,\u001b[49m\u001b[43m \u001b[49m\u001b[43mstart_new_session\u001b[49m\u001b[43m)\u001b[49m\n\u001b[1;32m    865\u001b[0m \u001b[38;5;28;01mexcept\u001b[39;00m:\n\u001b[1;32m    866\u001b[0m     \u001b[38;5;66;03m# Cleanup if the child failed starting.\u001b[39;00m\n\u001b[1;32m    867\u001b[0m     \u001b[38;5;28;01mfor\u001b[39;00m f \u001b[38;5;129;01min\u001b[39;00m \u001b[38;5;28mfilter\u001b[39m(\u001b[38;5;28;01mNone\u001b[39;00m, (\u001b[38;5;28mself\u001b[39m\u001b[38;5;241m.\u001b[39mstdin, \u001b[38;5;28mself\u001b[39m\u001b[38;5;241m.\u001b[39mstdout, \u001b[38;5;28mself\u001b[39m\u001b[38;5;241m.\u001b[39mstderr)):\n",
      "File \u001b[0;32m~/opt/anaconda3/envs/nnn/lib/python3.8/subprocess.py:1704\u001b[0m, in \u001b[0;36mPopen._execute_child\u001b[0;34m(self, args, executable, preexec_fn, close_fds, pass_fds, cwd, env, startupinfo, creationflags, shell, p2cread, p2cwrite, c2pread, c2pwrite, errread, errwrite, restore_signals, start_new_session)\u001b[0m\n\u001b[1;32m   1702\u001b[0m     \u001b[38;5;28;01mif\u001b[39;00m errno_num \u001b[38;5;241m!=\u001b[39m \u001b[38;5;241m0\u001b[39m:\n\u001b[1;32m   1703\u001b[0m         err_msg \u001b[38;5;241m=\u001b[39m os\u001b[38;5;241m.\u001b[39mstrerror(errno_num)\n\u001b[0;32m-> 1704\u001b[0m     \u001b[38;5;28;01mraise\u001b[39;00m child_exception_type(errno_num, err_msg, err_filename)\n\u001b[1;32m   1705\u001b[0m \u001b[38;5;28;01mraise\u001b[39;00m child_exception_type(err_msg)\n",
      "\u001b[0;31mFileNotFoundError\u001b[0m: [Errno 2] No such file or directory: 'ffplay'"
     ]
    }
   ],
   "source": [
    "song = AudioSegment.from_mp3('../resources/wow-sound-effect.wav')\n",
    "play(song)"
   ]
  },
  {
   "cell_type": "code",
   "execution_count": 18,
   "id": "e695a0c7-ddfc-4272-b23a-9ab4e35ccf4c",
   "metadata": {},
   "outputs": [],
   "source": [
    "import nupack"
   ]
  },
  {
   "cell_type": "code",
   "execution_count": 135,
   "id": "244999f4-68cd-41c3-8362-6dd029f48a52",
   "metadata": {},
   "outputs": [
    {
     "data": {
      "text/plain": [
       "<matplotlib.lines.Line2D at 0x7fcfb50afa30>"
      ]
     },
     "execution_count": 135,
     "metadata": {},
     "output_type": "execute_result"
    },
    {
     "data": {
      "image/png": "[encoded data removed]",
      "text/plain": [
       "<Figure size 640x480 with 1 Axes>"
      ]
     },
     "metadata": {},
     "output_type": "display_data"
    }
   ],
   "source": [
    "c_arr = np.arange(0,100,.5)\n",
    "lnQK_arr = np.zeros_like(c_arr)\n",
    "ind = 10\n",
    "for i,celsius in enumerate(c_arr):\n",
    "    model = nupack.Model(material='dna', celsius=celsius, sodium=0.0675)\n",
    "    lnQK_arr[i] = util.calculate_distance_2_equilibrium(center_df.RefSeq[ind], DNA_conc=1e-6, model=model, target_struct=center_df.TargetStruct[ind], verbose=False)\n",
    "    \n",
    "plt.plot(c_arr, lnQK_arr)\n",
    "plt.axhline(0, color='k', linestyle='--')\n",
    "plt.axvline(center_df.Tm[ind], color='g')"
   ]
  },
  {
   "cell_type": "code",
   "execution_count": 146,
   "id": "254631ba-ceb4-4024-87b4-9103f533a186",
   "metadata": {},
   "outputs": [
    {
     "data": {
      "text/plain": [
       "2775"
      ]
     },
     "execution_count": 146,
     "metadata": {},
     "output_type": "execute_result"
    }
   ],
   "source": [
    "len(center_df)"
   ]
  },
  {
   "cell_type": "code",
   "execution_count": 149,
   "id": "5d18642c-52dd-486f-a8ea-08a7dc3182f3",
   "metadata": {},
   "outputs": [
    {
     "name": "stdout",
     "output_type": "stream",
     "text": [
      "pred = 51.73, actual = 47.70\n"
     ]
    }
   ],
   "source": [
    "ind = 2600\n",
    "pred = util.calculate_tm(center_df.RefSeq[ind], target_struct=center_df.TargetStruct[ind],\n",
    "                  sodium=center_df.sodium[ind], DNA_conc=1e-6, param_set='./models/dna04.json')\n",
    "print('pred = %.2f, actual = %.2f' % (pred, center_df.Tm[ind]))"
   ]
  },
  {
   "cell_type": "code",
   "execution_count": 112,
   "id": "2b8003de-7a36-44ed-ae81-aedc7845c211",
   "metadata": {},
   "outputs": [
    {
     "data": {
      "text/plain": [
       "0.00198717"
      ]
     },
     "execution_count": 112,
     "metadata": {},
     "output_type": "execute_result"
    }
   ],
   "source": [
    "1/ (model.beta * 273.15)"
   ]
  },
  {
   "cell_type": "code",
   "execution_count": 84,
   "id": "5ca7fad0-16e7-4fb9-9ef5-1c1606b36b68",
   "metadata": {},
   "outputs": [
    {
     "data": {
      "text/plain": [
       "2400"
      ]
     },
     "execution_count": 84,
     "metadata": {},
     "output_type": "execute_result"
    }
   ],
   "source": [
    "8 * 300"
   ]
  },
  {
   "cell_type": "code",
   "execution_count": 151,
   "id": "d3d9a6a9-9378-4574-93b0-89263325b9bc",
   "metadata": {},
   "outputs": [
    {
     "data": {
      "text/plain": [
       "5.78135971352466"
      ]
     },
     "execution_count": 151,
     "metadata": {},
     "output_type": "execute_result"
    }
   ],
   "source": [
    "np.log(55) / np.log(2)"
   ]
  },
  {
   "cell_type": "code",
   "execution_count": 78,
   "id": "e0f2f2ba-314b-4b1b-ab10-ceea37d206ba",
   "metadata": {},
   "outputs": [
    {
     "data": {
      "text/plain": [
       "13.815510557964274"
      ]
     },
     "execution_count": 78,
     "metadata": {},
     "output_type": "execute_result"
    }
   ],
   "source": [
    "-np.log(1e-6)"
   ]
  },
  {
   "cell_type": "code",
   "execution_count": 73,
   "id": "29d8ac5f-66a5-4e83-a987-ac20c92bbbad",
   "metadata": {},
   "outputs": [],
   "source": [
    "model.celsius=37"
   ]
  },
  {
   "cell_type": "code",
   "execution_count": 74,
   "id": "78a59128-f548-4fd5-a8d6-1a29d9a175d7",
   "metadata": {},
   "outputs": [
    {
     "data": {
      "text/plain": [
       "37"
      ]
     },
     "execution_count": 74,
     "metadata": {},
     "output_type": "execute_result"
    }
   ],
   "source": [
    "model.celsius"
   ]
  },
  {
   "cell_type": "code",
   "execution_count": 65,
   "id": "2193515c-96de-4dd6-9393-24a6f3030630",
   "metadata": {},
   "outputs": [
    {
     "data": {
      "text/plain": [
       "0.002337540906965872"
      ]
     },
     "execution_count": 65,
     "metadata": {},
     "output_type": "execute_result"
    }
   ],
   "source": [
    "1 / ((37 + 273) * 1.38)"
   ]
  },
  {
   "cell_type": "code",
   "execution_count": 55,
   "id": "10c68b1f-2f2a-4764-94f4-c20b6e420de2",
   "metadata": {},
   "outputs": [
    {
     "data": {
      "text/plain": [
       "['CGACGTGCGCGATGTGCTG', 'CAGCACATCGCGCACGTCG']"
      ]
     },
     "execution_count": 55,
     "metadata": {},
     "output_type": "execute_result"
    }
   ],
   "source": [
    "center_df.RefSeq[0]"
   ]
  },
  {
   "cell_type": "code",
   "execution_count": 26,
   "id": "3e7d7cbf-ce26-46a7-a0b3-3fae593df640",
   "metadata": {},
   "outputs": [],
   "source": [
    "%load_ext autoreload\n",
    "%autoreload 2\n",
    "%run nnn/ipynb_init.py\n",
    "%matplotlib inline"
   ]
  },
  {
   "cell_type": "code",
   "execution_count": 27,
   "id": "e20cb513-f27a-46c2-81d0-6d1d8ea80706",
   "metadata": {},
   "outputs": [
    {
     "data": {
      "text/html": [
       "<div>\n",
       "<style scoped>\n",
       "    .dataframe tbody tr th:only-of-type {\n",
       "        vertical-align: middle;\n",
       "    }\n",
       "\n",
       "    .dataframe tbody tr th {\n",
       "        vertical-align: top;\n",
       "    }\n",
       "\n",
       "    .dataframe thead th {\n",
       "        text-align: right;\n",
       "    }\n",
       "</style>\n",
       "<table border=\"1\" class=\"dataframe\">\n",
       "  <thead>\n",
       "    <tr style=\"text-align: right;\">\n",
       "      <th></th>\n",
       "      <th>a</th>\n",
       "      <th>b</th>\n",
       "      <th>center</th>\n",
       "      <th>sodium</th>\n",
       "      <th>DNA_conc</th>\n",
       "      <th>RefSeq</th>\n",
       "      <th>TargetStruct</th>\n",
       "      <th>Tm</th>\n",
       "    </tr>\n",
       "    <tr>\n",
       "      <th>SEQID</th>\n",
       "      <th></th>\n",
       "      <th></th>\n",
       "      <th></th>\n",
       "      <th></th>\n",
       "      <th></th>\n",
       "      <th></th>\n",
       "      <th></th>\n",
       "      <th></th>\n",
       "    </tr>\n",
       "  </thead>\n",
       "  <tbody>\n",
       "    <tr>\n",
       "      <th>OV0</th>\n",
       "      <td>CGACGTGCGCGATGTGCTG</td>\n",
       "      <td>CAGCACATCGCGCACGTCG</td>\n",
       "      <td>GCG/CGC</td>\n",
       "      <td>0.0675</td>\n",
       "      <td>0.000001</td>\n",
       "      <td>[CGACGTGCGCGATGTGCTG, CAGCACATCGCGCACGTCG]</td>\n",
       "      <td>(((((((((((((((((((+)))))))))))))))))))</td>\n",
       "      <td>69.3</td>\n",
       "    </tr>\n",
       "    <tr>\n",
       "      <th>OV1</th>\n",
       "      <td>CGACGTGCGCCATGTGCTG</td>\n",
       "      <td>CAGCACATGGCGCACGTCG</td>\n",
       "      <td>GCC/CGG</td>\n",
       "      <td>0.0675</td>\n",
       "      <td>0.000001</td>\n",
       "      <td>[CGACGTGCGCCATGTGCTG, CAGCACATGGCGCACGTCG]</td>\n",
       "      <td>(((((((((((((((((((+)))))))))))))))))))</td>\n",
       "      <td>68.7</td>\n",
       "    </tr>\n",
       "    <tr>\n",
       "      <th>OV2</th>\n",
       "      <td>CGACGTGCGGGATGTGCTG</td>\n",
       "      <td>CAGCACATCCCGCACGTCG</td>\n",
       "      <td>GGG/CCC</td>\n",
       "      <td>0.0675</td>\n",
       "      <td>0.000001</td>\n",
       "      <td>[CGACGTGCGGGATGTGCTG, CAGCACATCCCGCACGTCG]</td>\n",
       "      <td>(((((((((((((((((((+)))))))))))))))))))</td>\n",
       "      <td>67.7</td>\n",
       "    </tr>\n",
       "    <tr>\n",
       "      <th>OV3</th>\n",
       "      <td>CGACGTGCGACATGTGCTG</td>\n",
       "      <td>CAGCACATGTCGCACGTCG</td>\n",
       "      <td>GAC/CTG</td>\n",
       "      <td>0.0675</td>\n",
       "      <td>0.000001</td>\n",
       "      <td>[CGACGTGCGACATGTGCTG, CAGCACATGTCGCACGTCG]</td>\n",
       "      <td>(((((((((((((((((((+)))))))))))))))))))</td>\n",
       "      <td>67.2</td>\n",
       "    </tr>\n",
       "    <tr>\n",
       "      <th>OV4</th>\n",
       "      <td>CGACGTGCGGAATGTGCTG</td>\n",
       "      <td>CAGCACATTCCGCACGTCG</td>\n",
       "      <td>GGA/CCT</td>\n",
       "      <td>0.0675</td>\n",
       "      <td>0.000001</td>\n",
       "      <td>[CGACGTGCGGAATGTGCTG, CAGCACATTCCGCACGTCG]</td>\n",
       "      <td>(((((((((((((((((((+)))))))))))))))))))</td>\n",
       "      <td>66.6</td>\n",
       "    </tr>\n",
       "    <tr>\n",
       "      <th>...</th>\n",
       "      <td>...</td>\n",
       "      <td>...</td>\n",
       "      <td>...</td>\n",
       "      <td>...</td>\n",
       "      <td>...</td>\n",
       "      <td>...</td>\n",
       "      <td>...</td>\n",
       "      <td>...</td>\n",
       "    </tr>\n",
       "    <tr>\n",
       "      <th>OV2770</th>\n",
       "      <td>CGACGTGCACCATGTGCTG</td>\n",
       "      <td>CAGCACATTCGGCACGTCG</td>\n",
       "      <td>ACC/GCT</td>\n",
       "      <td>0.0675</td>\n",
       "      <td>0.000001</td>\n",
       "      <td>[CGACGTGCACCATGTGCTG, CAGCACATTCGGCACGTCG]</td>\n",
       "      <td>((((((((...((((((((+))))))))...))))))))</td>\n",
       "      <td>42.6</td>\n",
       "    </tr>\n",
       "    <tr>\n",
       "      <th>OV2771</th>\n",
       "      <td>CGACGTGCACCATGTGCTG</td>\n",
       "      <td>CAGCACATTACGCACGTCG</td>\n",
       "      <td>ACC/CAT</td>\n",
       "      <td>0.0675</td>\n",
       "      <td>0.000001</td>\n",
       "      <td>[CGACGTGCACCATGTGCTG, CAGCACATTACGCACGTCG]</td>\n",
       "      <td>((((((((...((((((((+))))))))...))))))))</td>\n",
       "      <td>42.4</td>\n",
       "    </tr>\n",
       "    <tr>\n",
       "      <th>OV2772</th>\n",
       "      <td>CGACGTGCACCATGTGCTG</td>\n",
       "      <td>CAGCACATCCAGCACGTCG</td>\n",
       "      <td>ACC/ACC</td>\n",
       "      <td>0.0675</td>\n",
       "      <td>0.000001</td>\n",
       "      <td>[CGACGTGCACCATGTGCTG, CAGCACATCCAGCACGTCG]</td>\n",
       "      <td>((((((((...((((((((+))))))))...))))))))</td>\n",
       "      <td>42.2</td>\n",
       "    </tr>\n",
       "    <tr>\n",
       "      <th>OV2773</th>\n",
       "      <td>CGACGTGCACCATGTGCTG</td>\n",
       "      <td>CAGCACATTTAGCACGTCG</td>\n",
       "      <td>ACC/ATT</td>\n",
       "      <td>0.0675</td>\n",
       "      <td>0.000001</td>\n",
       "      <td>[CGACGTGCACCATGTGCTG, CAGCACATTTAGCACGTCG]</td>\n",
       "      <td>((((((((...((((((((+))))))))...))))))))</td>\n",
       "      <td>42.2</td>\n",
       "    </tr>\n",
       "    <tr>\n",
       "      <th>OV2774</th>\n",
       "      <td>CGACGTGCACTATGTGCTG</td>\n",
       "      <td>CAGCACATCTCGCACGTCG</td>\n",
       "      <td>ACT/CTC</td>\n",
       "      <td>0.0675</td>\n",
       "      <td>0.000001</td>\n",
       "      <td>[CGACGTGCACTATGTGCTG, CAGCACATCTCGCACGTCG]</td>\n",
       "      <td>((((((((...((((((((+))))))))...))))))))</td>\n",
       "      <td>41.6</td>\n",
       "    </tr>\n",
       "  </tbody>\n",
       "</table>\n",
       "<p>2775 rows × 8 columns</p>\n",
       "</div>"
      ],
      "text/plain": [
       "                          a                    b   center  sodium  DNA_conc  \\\n",
       "SEQID                                                                         \n",
       "OV0     CGACGTGCGCGATGTGCTG  CAGCACATCGCGCACGTCG  GCG/CGC  0.0675  0.000001   \n",
       "OV1     CGACGTGCGCCATGTGCTG  CAGCACATGGCGCACGTCG  GCC/CGG  0.0675  0.000001   \n",
       "OV2     CGACGTGCGGGATGTGCTG  CAGCACATCCCGCACGTCG  GGG/CCC  0.0675  0.000001   \n",
       "OV3     CGACGTGCGACATGTGCTG  CAGCACATGTCGCACGTCG  GAC/CTG  0.0675  0.000001   \n",
       "OV4     CGACGTGCGGAATGTGCTG  CAGCACATTCCGCACGTCG  GGA/CCT  0.0675  0.000001   \n",
       "...                     ...                  ...      ...     ...       ...   \n",
       "OV2770  CGACGTGCACCATGTGCTG  CAGCACATTCGGCACGTCG  ACC/GCT  0.0675  0.000001   \n",
       "OV2771  CGACGTGCACCATGTGCTG  CAGCACATTACGCACGTCG  ACC/CAT  0.0675  0.000001   \n",
       "OV2772  CGACGTGCACCATGTGCTG  CAGCACATCCAGCACGTCG  ACC/ACC  0.0675  0.000001   \n",
       "OV2773  CGACGTGCACCATGTGCTG  CAGCACATTTAGCACGTCG  ACC/ATT  0.0675  0.000001   \n",
       "OV2774  CGACGTGCACTATGTGCTG  CAGCACATCTCGCACGTCG  ACT/CTC  0.0675  0.000001   \n",
       "\n",
       "                                            RefSeq  \\\n",
       "SEQID                                                \n",
       "OV0     [CGACGTGCGCGATGTGCTG, CAGCACATCGCGCACGTCG]   \n",
       "OV1     [CGACGTGCGCCATGTGCTG, CAGCACATGGCGCACGTCG]   \n",
       "OV2     [CGACGTGCGGGATGTGCTG, CAGCACATCCCGCACGTCG]   \n",
       "OV3     [CGACGTGCGACATGTGCTG, CAGCACATGTCGCACGTCG]   \n",
       "OV4     [CGACGTGCGGAATGTGCTG, CAGCACATTCCGCACGTCG]   \n",
       "...                                            ...   \n",
       "OV2770  [CGACGTGCACCATGTGCTG, CAGCACATTCGGCACGTCG]   \n",
       "OV2771  [CGACGTGCACCATGTGCTG, CAGCACATTACGCACGTCG]   \n",
       "OV2772  [CGACGTGCACCATGTGCTG, CAGCACATCCAGCACGTCG]   \n",
       "OV2773  [CGACGTGCACCATGTGCTG, CAGCACATTTAGCACGTCG]   \n",
       "OV2774  [CGACGTGCACTATGTGCTG, CAGCACATCTCGCACGTCG]   \n",
       "\n",
       "                                   TargetStruct    Tm  \n",
       "SEQID                                                  \n",
       "OV0     (((((((((((((((((((+)))))))))))))))))))  69.3  \n",
       "OV1     (((((((((((((((((((+)))))))))))))))))))  68.7  \n",
       "OV2     (((((((((((((((((((+)))))))))))))))))))  67.7  \n",
       "OV3     (((((((((((((((((((+)))))))))))))))))))  67.2  \n",
       "OV4     (((((((((((((((((((+)))))))))))))))))))  66.6  \n",
       "...                                         ...   ...  \n",
       "OV2770  ((((((((...((((((((+))))))))...))))))))  42.6  \n",
       "OV2771  ((((((((...((((((((+))))))))...))))))))  42.4  \n",
       "OV2772  ((((((((...((((((((+))))))))...))))))))  42.2  \n",
       "OV2773  ((((((((...((((((((+))))))))...))))))))  42.2  \n",
       "OV2774  ((((((((...((((((((+))))))))...))))))))  41.6  \n",
       "\n",
       "[2775 rows x 8 columns]"
      ]
     },
     "execution_count": 27,
     "metadata": {},
     "output_type": "execute_result"
    }
   ],
   "source": [
    "center_df = fileio.read_Oliveira_df('./data/literature/Oliveira_2020_mismatches.csv')\n",
    "center_df"
   ]
  },
  {
   "cell_type": "code",
   "execution_count": null,
   "id": "d04d606c-3ef0-456d-a232-a331c0e9c919",
   "metadata": {},
   "outputs": [],
   "source": []
  }
 ],
 "metadata": {
  "kernelspec": {
   "display_name": "Python 3 (ipykernel)",
   "language": "python",
   "name": "python3"
  },
  "language_info": {
   "codemirror_mode": {
    "name": "ipython",
    "version": 3
   },
   "file_extension": ".py",
   "mimetype": "text/x-python",
   "name": "python",
   "nbconvert_exporter": "python",
   "pygments_lexer": "ipython3",
   "version": "3.8.16"
  }
 },
 "nbformat": 4,
 "nbformat_minor": 5
}
