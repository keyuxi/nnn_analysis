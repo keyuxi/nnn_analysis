{
 "cells": [
  {
   "cell_type": "code",
   "execution_count": 1,
   "id": "812d842a-94ef-46bc-9a94-1ac4dfd18ac5",
   "metadata": {},
   "outputs": [],
   "source": [
    "%load_ext autoreload\n",
    "%autoreload 2\n",
    "\n",
    "%matplotlib inline\n",
    "import numpy as np\n",
    "import pandas as pd\n",
    "import json\n",
    "import seaborn as sns\n",
    "sns.set_style('ticks')\n",
    "sns.set_context('paper')\n",
    "from RiboGraphViz import RGV\n",
    "from RiboGraphViz import LoopExtruder, StackExtruder\n",
    "from ipynb.draw import draw_struct\n",
    "\n",
    "from nnn.util import *\n",
    "from nnn.fileio import *\n",
    "from nnn.processing import *\n",
    "from nnn.plotting import *\n",
    "from nnn import motif_fit\n",
    "\n",
    "import warnings\n",
    "warnings.filterwarnings(\"ignore\")"
   ]
  },
  {
   "cell_type": "code",
   "execution_count": 2,
   "id": "92936fa2-c9ca-44f7-a1c7-4a0ce15d3db8",
   "metadata": {},
   "outputs": [],
   "source": [
    "melt_file = './data/uv_melt/220225_WC2898.csv'"
   ]
  },
  {
   "cell_type": "code",
   "execution_count": 3,
   "id": "5759d3c3-ba84-4458-bc19-658a4f255fd7",
   "metadata": {},
   "outputs": [],
   "source": [
    "df = read_melt_file(melt_file).set_index('ramp')\n",
    "annotation = read_annotation('./data/annotation/NNNlib2b_annotation_nupack.txt',\n",
    "                             './data/annotation/NNN_mastertable.tsv')"
   ]
  },
  {
   "cell_type": "code",
   "execution_count": 9,
   "id": "616262b1-471d-4e2a-a0d1-093e99a2865f",
   "metadata": {},
   "outputs": [
    {
     "data": {
      "text/html": [
       "<div>\n",
       "<style scoped>\n",
       "    .dataframe tbody tr th:only-of-type {\n",
       "        vertical-align: middle;\n",
       "    }\n",
       "\n",
       "    .dataframe tbody tr th {\n",
       "        vertical-align: top;\n",
       "    }\n",
       "\n",
       "    .dataframe thead th {\n",
       "        text-align: right;\n",
       "    }\n",
       "</style>\n",
       "<table border=\"1\" class=\"dataframe\">\n",
       "  <thead>\n",
       "    <tr style=\"text-align: right;\">\n",
       "      <th></th>\n",
       "      <th>Series</th>\n",
       "      <th>ConstructType</th>\n",
       "      <th>Scaffold</th>\n",
       "      <th>Scaffoldposition</th>\n",
       "      <th>RefSeq</th>\n",
       "      <th>dH_NUPACK</th>\n",
       "      <th>dS_NUPACK</th>\n",
       "      <th>Tm_NUPACK</th>\n",
       "      <th>dG_37_NUPACK</th>\n",
       "      <th>ConstructClass</th>\n",
       "    </tr>\n",
       "    <tr>\n",
       "      <th>SEQID</th>\n",
       "      <th></th>\n",
       "      <th></th>\n",
       "      <th></th>\n",
       "      <th></th>\n",
       "      <th></th>\n",
       "      <th></th>\n",
       "      <th></th>\n",
       "      <th></th>\n",
       "      <th></th>\n",
       "      <th></th>\n",
       "    </tr>\n",
       "  </thead>\n",
       "  <tbody>\n",
       "    <tr>\n",
       "      <th>WC1375</th>\n",
       "      <td>WatsonCrick</td>\n",
       "      <td>WC_6ntstem</td>\n",
       "      <td>GC</td>\n",
       "      <td>Bottom</td>\n",
       "      <td>GTCAGGGAAACCTGAC</td>\n",
       "      <td>-44.908888</td>\n",
       "      <td>-0.125232</td>\n",
       "      <td>85.454908</td>\n",
       "      <td>-6.011584</td>\n",
       "      <td>Watson Crick</td>\n",
       "    </tr>\n",
       "  </tbody>\n",
       "</table>\n",
       "</div>"
      ],
      "text/plain": [
       "             Series ConstructType Scaffold Scaffoldposition            RefSeq  \\\n",
       "SEQID                                                                           \n",
       "WC1375  WatsonCrick    WC_6ntstem       GC           Bottom  GTCAGGGAAACCTGAC   \n",
       "\n",
       "        dH_NUPACK  dS_NUPACK  Tm_NUPACK  dG_37_NUPACK ConstructClass  \n",
       "SEQID                                                                 \n",
       "WC1375 -44.908888  -0.125232  85.454908     -6.011584   Watson Crick  "
      ]
     },
     "execution_count": 9,
     "metadata": {},
     "output_type": "execute_result"
    }
   ],
   "source": [
    "annotation.query('RefSeq == \"GTCAGGGAAACCTGAC\"')"
   ]
  },
  {
   "cell_type": "code",
   "execution_count": 49,
   "id": "e126f6ad-f67f-4087-b3dd-722af2e14733",
   "metadata": {},
   "outputs": [
    {
     "data": {
      "text/html": [
       "<div>\n",
       "<style scoped>\n",
       "    .dataframe tbody tr th:only-of-type {\n",
       "        vertical-align: middle;\n",
       "    }\n",
       "\n",
       "    .dataframe tbody tr th {\n",
       "        vertical-align: top;\n",
       "    }\n",
       "\n",
       "    .dataframe thead th {\n",
       "        text-align: right;\n",
       "    }\n",
       "</style>\n",
       "<table border=\"1\" class=\"dataframe\">\n",
       "  <thead>\n",
       "    <tr style=\"text-align: right;\">\n",
       "      <th></th>\n",
       "      <th>Temperature_C</th>\n",
       "      <th>Abs</th>\n",
       "    </tr>\n",
       "    <tr>\n",
       "      <th>ramp</th>\n",
       "      <th></th>\n",
       "      <th></th>\n",
       "    </tr>\n",
       "  </thead>\n",
       "  <tbody>\n",
       "    <tr>\n",
       "      <th>melt</th>\n",
       "      <td>4.020000</td>\n",
       "      <td>0.037338</td>\n",
       "    </tr>\n",
       "    <tr>\n",
       "      <th>melt</th>\n",
       "      <td>5.020000</td>\n",
       "      <td>0.037356</td>\n",
       "    </tr>\n",
       "    <tr>\n",
       "      <th>melt</th>\n",
       "      <td>6.020000</td>\n",
       "      <td>0.037490</td>\n",
       "    </tr>\n",
       "    <tr>\n",
       "      <th>melt</th>\n",
       "      <td>7.020000</td>\n",
       "      <td>0.037464</td>\n",
       "    </tr>\n",
       "    <tr>\n",
       "      <th>melt</th>\n",
       "      <td>8.020000</td>\n",
       "      <td>0.037347</td>\n",
       "    </tr>\n",
       "    <tr>\n",
       "      <th>...</th>\n",
       "      <td>...</td>\n",
       "      <td>...</td>\n",
       "    </tr>\n",
       "    <tr>\n",
       "      <th>melt</th>\n",
       "      <td>91.019997</td>\n",
       "      <td>0.040916</td>\n",
       "    </tr>\n",
       "    <tr>\n",
       "      <th>melt</th>\n",
       "      <td>92.019997</td>\n",
       "      <td>0.040854</td>\n",
       "    </tr>\n",
       "    <tr>\n",
       "      <th>melt</th>\n",
       "      <td>93.019997</td>\n",
       "      <td>0.041408</td>\n",
       "    </tr>\n",
       "    <tr>\n",
       "      <th>melt</th>\n",
       "      <td>94.019997</td>\n",
       "      <td>0.041574</td>\n",
       "    </tr>\n",
       "    <tr>\n",
       "      <th>melt</th>\n",
       "      <td>95.019997</td>\n",
       "      <td>0.040265</td>\n",
       "    </tr>\n",
       "  </tbody>\n",
       "</table>\n",
       "<p>92 rows × 2 columns</p>\n",
       "</div>"
      ],
      "text/plain": [
       "      Temperature_C       Abs\n",
       "ramp                         \n",
       "melt       4.020000  0.037338\n",
       "melt       5.020000  0.037356\n",
       "melt       6.020000  0.037490\n",
       "melt       7.020000  0.037464\n",
       "melt       8.020000  0.037347\n",
       "...             ...       ...\n",
       "melt      91.019997  0.040916\n",
       "melt      92.019997  0.040854\n",
       "melt      93.019997  0.041408\n",
       "melt      94.019997  0.041574\n",
       "melt      95.019997  0.040265\n",
       "\n",
       "[92 rows x 2 columns]"
      ]
     },
     "execution_count": 49,
     "metadata": {},
     "output_type": "execute_result"
    }
   ],
   "source": [
    "df.loc['melt']"
   ]
  },
  {
   "cell_type": "code",
   "execution_count": 53,
   "id": "dac5fe94-5354-45b9-bc7f-3ee706a7e70f",
   "metadata": {},
   "outputs": [
    {
     "data": {
      "image/png": "[encoded data removed]",
      "text/plain": [
       "<Figure size 432x288 with 1 Axes>"
      ]
     },
     "metadata": {},
     "output_type": "display_data"
    }
   ],
   "source": [
    "plt.plot(df.loc['melt','Temperature_C'], df.loc['melt','Abs'], '.')\n",
    "plt.plot(df.loc['anneal','Temperature_C'], df.loc['anneal','Abs'], '.')\n",
    "plt.legend(['melt', 'anneal'])\n",
    "plt.xlabel('Temperature (°C)')\n",
    "plt.ylabel('Absorbance')\n",
    "save_fig('./fig/UV_melt/WC2898.pdf')"
   ]
  },
  {
   "cell_type": "code",
   "execution_count": 54,
   "id": "cc97304a-5db7-49bd-bcdf-4dd827f965dd",
   "metadata": {},
   "outputs": [
    {
     "data": {
      "image/png": "[encoded data removed]",
      "text/plain": [
       "<Figure size 432x288 with 1 Axes>"
      ]
     },
     "metadata": {},
     "output_type": "display_data"
    }
   ],
   "source": [
    "plt.plot(df.loc['melt','Temperature_C'], df.loc['melt','Abs'], '.')\n",
    "# plt.plot(df.loc['anneal','Temperature_C'], df.loc['anneal','Abs'])\n",
    "# plt.legend(['melt', 'anneal'])\n",
    "plt.xlabel('Temperature (°C)')\n",
    "plt.ylabel('Absorbance')\n",
    "save_fig('./fig/UV_melt/WC2898_melt_only.pdf')"
   ]
  },
  {
   "cell_type": "code",
   "execution_count": 71,
   "id": "2244ecb8-e4c7-4558-bde8-720a00cdfe41",
   "metadata": {},
   "outputs": [
    {
     "data": {
      "image/png": "[encoded data removed]",
      "text/plain": [
       "<Figure size 576x216 with 2 Axes>"
      ]
     },
     "metadata": {},
     "output_type": "display_data"
    }
   ],
   "source": [
    "fig, ax = plt.subplots(1,2, sharex=True, figsize=(8,3))\n",
    "plot_corrected_NUPACK_curve(annotation.loc['WC2898'], ax=ax[0], T_celsius=df.loc['melt', 'Temperature_C'])\n",
    "ax[1].plot(df.loc['melt','Temperature_C'], df.loc['melt','Abs'], 'k.')\n",
    "save_fig('./fig/UV_melt/WC2898_NUPACK_vs_melt.pdf')"
   ]
  },
  {
   "cell_type": "code",
   "execution_count": 72,
   "id": "c98ceeda-c9f1-42fc-af53-ac8a179287c2",
   "metadata": {},
   "outputs": [
    {
     "data": {
      "text/plain": [
       "Series                 WatsonCrick\n",
       "ConstructType           WC_5ntstem\n",
       "Scaffold                       NaN\n",
       "Scaffoldposition               NaN\n",
       "RefSeq              CCATGGAAACATGG\n",
       "dH_NUPACK               -36.979751\n",
       "dS_NUPACK                -0.105028\n",
       "Tm_NUPACK                78.943904\n",
       "dG_37_NUPACK             -4.375536\n",
       "ConstructClass        Watson Crick\n",
       "Name: WC2898, dtype: object"
      ]
     },
     "execution_count": 72,
     "metadata": {},
     "output_type": "execute_result"
    }
   ],
   "source": [
    "annotation.loc['WC2898']"
   ]
  },
  {
   "cell_type": "markdown",
   "id": "e4d0f607-eb91-4b43-89b3-93257996ee8d",
   "metadata": {},
   "source": [
    "# UV melt ordering"
   ]
  },
  {
   "cell_type": "markdown",
   "id": "c13ee4cc-ec7a-48d1-9b31-c1056dd7f490",
   "metadata": {},
   "source": [
    "## WC 24 plate split and stem\n",
    "\n",
    "split - broken at the middle of the loop, e.g. with GA+AA\n",
    "stem - broken 5' and 3' strands of the stem region only"
   ]
  },
  {
   "cell_type": "code",
   "execution_count": 10,
   "id": "91931a46-de0b-4aab-abea-0b2d35c5367b",
   "metadata": {},
   "outputs": [
    {
     "name": "stdout",
     "output_type": "stream",
     "text": [
      "The autoreload extension is already loaded. To reload it, use:\n",
      "  %reload_ext autoreload\n"
     ]
    }
   ],
   "source": [
    "%load_ext autoreload\n",
    "%autoreload 2\n",
    "%matplotlib inline\n",
    "%run nnn/ipynb_init.py\n",
    "\n",
    "df = pd.read_csv('./data/uv_melt/WC_24plate_sequence.csv')"
   ]
  },
  {
   "cell_type": "code",
   "execution_count": 11,
   "id": "7e0c34a5-8eab-4f8f-a029-4d4d2ac69046",
   "metadata": {},
   "outputs": [
    {
     "data": {
      "text/html": [
       "<div>\n",
       "<style scoped>\n",
       "    .dataframe tbody tr th:only-of-type {\n",
       "        vertical-align: middle;\n",
       "    }\n",
       "\n",
       "    .dataframe tbody tr th {\n",
       "        vertical-align: top;\n",
       "    }\n",
       "\n",
       "    .dataframe thead th {\n",
       "        text-align: right;\n",
       "    }\n",
       "</style>\n",
       "<table border=\"1\" class=\"dataframe\">\n",
       "  <thead>\n",
       "    <tr style=\"text-align: right;\">\n",
       "      <th></th>\n",
       "      <th>SEQID</th>\n",
       "      <th>RefSeq</th>\n",
       "      <th>split_5p</th>\n",
       "      <th>split_3p</th>\n",
       "      <th>stem_5p</th>\n",
       "      <th>stem_3p</th>\n",
       "    </tr>\n",
       "  </thead>\n",
       "  <tbody>\n",
       "    <tr>\n",
       "      <th>0</th>\n",
       "      <td>WC1106</td>\n",
       "      <td>GTTCAAGGAAACTTGAAC</td>\n",
       "      <td>GTTCAAGGA</td>\n",
       "      <td>AACTTGAAC</td>\n",
       "      <td>GTTCAAG</td>\n",
       "      <td>CTTGAAC</td>\n",
       "    </tr>\n",
       "    <tr>\n",
       "      <th>1</th>\n",
       "      <td>WC593</td>\n",
       "      <td>GACATTGGAAACAATGTC</td>\n",
       "      <td>GACATTGGA</td>\n",
       "      <td>AACAATGTC</td>\n",
       "      <td>GACATTG</td>\n",
       "      <td>CAATGTC</td>\n",
       "    </tr>\n",
       "    <tr>\n",
       "      <th>2</th>\n",
       "      <td>WC2318</td>\n",
       "      <td>GCAATAGGAAACTATTGC</td>\n",
       "      <td>GCAATAGGA</td>\n",
       "      <td>AACTATTGC</td>\n",
       "      <td>GCAATAG</td>\n",
       "      <td>CTATTGC</td>\n",
       "    </tr>\n",
       "    <tr>\n",
       "      <th>3</th>\n",
       "      <td>WC68</td>\n",
       "      <td>GAATTGGGAAACCAATTC</td>\n",
       "      <td>GAATTGGGA</td>\n",
       "      <td>AACCAATTC</td>\n",
       "      <td>GAATTGG</td>\n",
       "      <td>CCAATTC</td>\n",
       "    </tr>\n",
       "    <tr>\n",
       "      <th>4</th>\n",
       "      <td>WC209</td>\n",
       "      <td>GATATTGGAAACAATATC</td>\n",
       "      <td>GATATTGGA</td>\n",
       "      <td>AACAATATC</td>\n",
       "      <td>GATATTG</td>\n",
       "      <td>CAATATC</td>\n",
       "    </tr>\n",
       "    <tr>\n",
       "      <th>5</th>\n",
       "      <td>WC1048</td>\n",
       "      <td>GTTTCTGAAAAGAAAC</td>\n",
       "      <td>GTTTCTGA</td>\n",
       "      <td>AAAGAAAC</td>\n",
       "      <td>GTTTCT</td>\n",
       "      <td>AGAAAC</td>\n",
       "    </tr>\n",
       "    <tr>\n",
       "      <th>6</th>\n",
       "      <td>WC1394</td>\n",
       "      <td>GTCTAAGGAAACTTAGAC</td>\n",
       "      <td>GTCTAAGGA</td>\n",
       "      <td>AACTTAGAC</td>\n",
       "      <td>GTCTAAG</td>\n",
       "      <td>CTTAGAC</td>\n",
       "    </tr>\n",
       "    <tr>\n",
       "      <th>7</th>\n",
       "      <td>WC200</td>\n",
       "      <td>GATAAGGGAAACCTTATC</td>\n",
       "      <td>GATAAGGGA</td>\n",
       "      <td>AACCTTATC</td>\n",
       "      <td>GATAAGG</td>\n",
       "      <td>CCTTATC</td>\n",
       "    </tr>\n",
       "    <tr>\n",
       "      <th>8</th>\n",
       "      <td>WC578</td>\n",
       "      <td>GACAAAGGAAACTTTGTC</td>\n",
       "      <td>GACAAAGGA</td>\n",
       "      <td>AACTTTGTC</td>\n",
       "      <td>GACAAAG</td>\n",
       "      <td>CTTTGTC</td>\n",
       "    </tr>\n",
       "    <tr>\n",
       "      <th>9</th>\n",
       "      <td>WC1025</td>\n",
       "      <td>GTTTTTGGAAACAAAAAC</td>\n",
       "      <td>GTTTTTGGA</td>\n",
       "      <td>AACAAAAAC</td>\n",
       "      <td>GTTTTTG</td>\n",
       "      <td>CAAAAAC</td>\n",
       "    </tr>\n",
       "    <tr>\n",
       "      <th>10</th>\n",
       "      <td>WC1154</td>\n",
       "      <td>GTGAAAGGAAACTTTCAC</td>\n",
       "      <td>GTGAAAGGA</td>\n",
       "      <td>AACTTTCAC</td>\n",
       "      <td>GTGAAAG</td>\n",
       "      <td>CTTTCAC</td>\n",
       "    </tr>\n",
       "    <tr>\n",
       "      <th>11</th>\n",
       "      <td>WC788</td>\n",
       "      <td>GTAATGGGAAACCATTAC</td>\n",
       "      <td>GTAATGGGA</td>\n",
       "      <td>AACCATTAC</td>\n",
       "      <td>GTAATGG</td>\n",
       "      <td>CCATTAC</td>\n",
       "    </tr>\n",
       "    <tr>\n",
       "      <th>12</th>\n",
       "      <td>WC1432</td>\n",
       "      <td>GTCTCTGAAAAGAGAC</td>\n",
       "      <td>GTCTCTGA</td>\n",
       "      <td>AAAGAGAC</td>\n",
       "      <td>GTCTCT</td>\n",
       "      <td>AGAGAC</td>\n",
       "    </tr>\n",
       "    <tr>\n",
       "      <th>13</th>\n",
       "      <td>WC1203</td>\n",
       "      <td>TGTATGAAAATACA</td>\n",
       "      <td>TGTATGA</td>\n",
       "      <td>AAATACA</td>\n",
       "      <td>TGTAT</td>\n",
       "      <td>ATACA</td>\n",
       "    </tr>\n",
       "    <tr>\n",
       "      <th>14</th>\n",
       "      <td>WC2922</td>\n",
       "      <td>CCACGGAAACGTGG</td>\n",
       "      <td>CCACGGA</td>\n",
       "      <td>AACGTGG</td>\n",
       "      <td>CCACG</td>\n",
       "      <td>CGTGG</td>\n",
       "    </tr>\n",
       "    <tr>\n",
       "      <th>15</th>\n",
       "      <td>WC91</td>\n",
       "      <td>GAATCGGAAACGATTC</td>\n",
       "      <td>GAATCGGA</td>\n",
       "      <td>AACGATTC</td>\n",
       "      <td>GAATCG</td>\n",
       "      <td>CGATTC</td>\n",
       "    </tr>\n",
       "    <tr>\n",
       "      <th>16</th>\n",
       "      <td>WC2119</td>\n",
       "      <td>GGCAAGGAAACTTGCC</td>\n",
       "      <td>GGCAAGGA</td>\n",
       "      <td>AACTTGCC</td>\n",
       "      <td>GGCAAG</td>\n",
       "      <td>CTTGCC</td>\n",
       "    </tr>\n",
       "    <tr>\n",
       "      <th>17</th>\n",
       "      <td>WC2215</td>\n",
       "      <td>GGCGAGGAAACTCGCC</td>\n",
       "      <td>GGCGAGGA</td>\n",
       "      <td>AACTCGCC</td>\n",
       "      <td>GGCGAG</td>\n",
       "      <td>CTCGCC</td>\n",
       "    </tr>\n",
       "    <tr>\n",
       "      <th>18</th>\n",
       "      <td>WC1257</td>\n",
       "      <td>TGGACGAAAGTCCA</td>\n",
       "      <td>TGGACGA</td>\n",
       "      <td>AAGTCCA</td>\n",
       "      <td>TGGAC</td>\n",
       "      <td>GTCCA</td>\n",
       "    </tr>\n",
       "    <tr>\n",
       "      <th>19</th>\n",
       "      <td>WC988</td>\n",
       "      <td>GTTAGTGAAAACTAAC</td>\n",
       "      <td>GTTAGTGA</td>\n",
       "      <td>AAACTAAC</td>\n",
       "      <td>GTTAGT</td>\n",
       "      <td>ACTAAC</td>\n",
       "    </tr>\n",
       "    <tr>\n",
       "      <th>20</th>\n",
       "      <td>WC2781</td>\n",
       "      <td>CGTCCGAAAGGACG</td>\n",
       "      <td>CGTCCGA</td>\n",
       "      <td>AAGGACG</td>\n",
       "      <td>CGTCC</td>\n",
       "      <td>GGACG</td>\n",
       "    </tr>\n",
       "    <tr>\n",
       "      <th>21</th>\n",
       "      <td>WC2973</td>\n",
       "      <td>CCTCCGAAAGGAGG</td>\n",
       "      <td>CCTCCGA</td>\n",
       "      <td>AAGGAGG</td>\n",
       "      <td>CCTCC</td>\n",
       "      <td>GGAGG</td>\n",
       "    </tr>\n",
       "    <tr>\n",
       "      <th>22</th>\n",
       "      <td>WC1671</td>\n",
       "      <td>GAGCTGAAAAGCTC</td>\n",
       "      <td>GAGCTGA</td>\n",
       "      <td>AAAGCTC</td>\n",
       "      <td>GAGCT</td>\n",
       "      <td>AGCTC</td>\n",
       "    </tr>\n",
       "    <tr>\n",
       "      <th>23</th>\n",
       "      <td>WC2942</td>\n",
       "      <td>GCCTTAGGAAACTAAGGC</td>\n",
       "      <td>GCCTTAGGA</td>\n",
       "      <td>AACTAAGGC</td>\n",
       "      <td>GCCTTAG</td>\n",
       "      <td>CTAAGGC</td>\n",
       "    </tr>\n",
       "  </tbody>\n",
       "</table>\n",
       "</div>"
      ],
      "text/plain": [
       "     SEQID              RefSeq   split_5p   split_3p  stem_5p  stem_3p\n",
       "0   WC1106  GTTCAAGGAAACTTGAAC  GTTCAAGGA  AACTTGAAC  GTTCAAG  CTTGAAC\n",
       "1    WC593  GACATTGGAAACAATGTC  GACATTGGA  AACAATGTC  GACATTG  CAATGTC\n",
       "2   WC2318  GCAATAGGAAACTATTGC  GCAATAGGA  AACTATTGC  GCAATAG  CTATTGC\n",
       "3     WC68  GAATTGGGAAACCAATTC  GAATTGGGA  AACCAATTC  GAATTGG  CCAATTC\n",
       "4    WC209  GATATTGGAAACAATATC  GATATTGGA  AACAATATC  GATATTG  CAATATC\n",
       "5   WC1048    GTTTCTGAAAAGAAAC   GTTTCTGA   AAAGAAAC   GTTTCT   AGAAAC\n",
       "6   WC1394  GTCTAAGGAAACTTAGAC  GTCTAAGGA  AACTTAGAC  GTCTAAG  CTTAGAC\n",
       "7    WC200  GATAAGGGAAACCTTATC  GATAAGGGA  AACCTTATC  GATAAGG  CCTTATC\n",
       "8    WC578  GACAAAGGAAACTTTGTC  GACAAAGGA  AACTTTGTC  GACAAAG  CTTTGTC\n",
       "9   WC1025  GTTTTTGGAAACAAAAAC  GTTTTTGGA  AACAAAAAC  GTTTTTG  CAAAAAC\n",
       "10  WC1154  GTGAAAGGAAACTTTCAC  GTGAAAGGA  AACTTTCAC  GTGAAAG  CTTTCAC\n",
       "11   WC788  GTAATGGGAAACCATTAC  GTAATGGGA  AACCATTAC  GTAATGG  CCATTAC\n",
       "12  WC1432    GTCTCTGAAAAGAGAC   GTCTCTGA   AAAGAGAC   GTCTCT   AGAGAC\n",
       "13  WC1203      TGTATGAAAATACA    TGTATGA    AAATACA    TGTAT    ATACA\n",
       "14  WC2922      CCACGGAAACGTGG    CCACGGA    AACGTGG    CCACG    CGTGG\n",
       "15    WC91    GAATCGGAAACGATTC   GAATCGGA   AACGATTC   GAATCG   CGATTC\n",
       "16  WC2119    GGCAAGGAAACTTGCC   GGCAAGGA   AACTTGCC   GGCAAG   CTTGCC\n",
       "17  WC2215    GGCGAGGAAACTCGCC   GGCGAGGA   AACTCGCC   GGCGAG   CTCGCC\n",
       "18  WC1257      TGGACGAAAGTCCA    TGGACGA    AAGTCCA    TGGAC    GTCCA\n",
       "19   WC988    GTTAGTGAAAACTAAC   GTTAGTGA   AAACTAAC   GTTAGT   ACTAAC\n",
       "20  WC2781      CGTCCGAAAGGACG    CGTCCGA    AAGGACG    CGTCC    GGACG\n",
       "21  WC2973      CCTCCGAAAGGAGG    CCTCCGA    AAGGAGG    CCTCC    GGAGG\n",
       "22  WC1671      GAGCTGAAAAGCTC    GAGCTGA    AAAGCTC    GAGCT    AGCTC\n",
       "23  WC2942  GCCTTAGGAAACTAAGGC  GCCTTAGGA  AACTAAGGC  GCCTTAG  CTAAGGC"
      ]
     },
     "execution_count": 11,
     "metadata": {},
     "output_type": "execute_result"
    }
   ],
   "source": [
    "# !!only works for symmetric stems!!\n",
    "split5 = lambda seq: seq[:int(len(seq) / 2)]\n",
    "split3 = lambda seq: seq[int(len(seq) / 2):]\n",
    "stem5 = lambda seq: seq[:int(len(seq) / 2) - 2]\n",
    "stem3 = lambda seq: seq[int(len(seq) / 2) + 2:]\n",
    "\n",
    "df['split_5p'] = df.RefSeq.apply(split5)\n",
    "df['split_3p'] = df.RefSeq.apply(split3)\n",
    "df['stem_5p'] = df.RefSeq.apply(stem5)\n",
    "df['stem_3p'] = df.RefSeq.apply(stem3)\n",
    "df"
   ]
  },
  {
   "cell_type": "code",
   "execution_count": 14,
   "id": "0e01dd0a-5005-4302-9767-05429d5b5d28",
   "metadata": {},
   "outputs": [],
   "source": [
    "df.to_csv('./data/uv_melt/WC_24plate_sequence_split.csv', index=None)"
   ]
  },
  {
   "cell_type": "code",
   "execution_count": 33,
   "id": "8a73e987-4d4f-4181-b202-23ba6af99cd2",
   "metadata": {},
   "outputs": [],
   "source": [
    "idt_df = df.drop(columns=['RefSeq']).melt(id_vars=['SEQID'], var_name=['name'], value_name='sequence')\n",
    "idt_df['name'] = idt_df.apply(lambda row: f'{row.SEQID}_{row[\"name\"]}', axis=1)\n",
    "idt_df = idt_df.set_index('SEQID').sort_index()\n",
    "idt_df['scale'] = '250nm'"
   ]
  },
  {
   "cell_type": "code",
   "execution_count": 34,
   "id": "24d77ef1-1e22-48a3-899d-060afd4c4c78",
   "metadata": {},
   "outputs": [],
   "source": [
    "idt_df.to_csv('./data/uv_melt/WC_24plate_sequence_split_IDT.csv', index=None)"
   ]
  },
  {
   "cell_type": "markdown",
   "id": "03b0b9a2-cea2-4dc4-851c-e43d2c22c4a1",
   "metadata": {},
   "source": [
    "### Example curves from figure 1"
   ]
  },
  {
   "cell_type": "code",
   "execution_count": 12,
   "id": "ff40a656-2060-4e81-a327-7d966ebd0073",
   "metadata": {},
   "outputs": [],
   "source": [
    "seqids = ['WC202', 'WC1375', 'WC2287']\n"
   ]
  },
  {
   "cell_type": "code",
   "execution_count": 15,
   "id": "0fec2226-218f-4992-8482-9a57c13c5c06",
   "metadata": {},
   "outputs": [],
   "source": [
    "df = annotation.loc[seqids]\n",
    "df['stem_5p'] = df.RefSeq.apply(stem5)\n",
    "df['stem_3p'] = df.RefSeq.apply(stem3)"
   ]
  },
  {
   "cell_type": "code",
   "execution_count": 17,
   "id": "ce486493-68b5-4b7b-be6a-dc6cc77b7f02",
   "metadata": {},
   "outputs": [],
   "source": [
    "df.to_csv('./data/uv_melt/WC_3examples_sequence_split.csv', index=None)"
   ]
  },
  {
   "cell_type": "code",
   "execution_count": 22,
   "id": "e0e3b0da-2765-4e34-9287-9d6e70086ba3",
   "metadata": {},
   "outputs": [
    {
     "data": {
      "text/html": [
       "<div>\n",
       "<style scoped>\n",
       "    .dataframe tbody tr th:only-of-type {\n",
       "        vertical-align: middle;\n",
       "    }\n",
       "\n",
       "    .dataframe tbody tr th {\n",
       "        vertical-align: top;\n",
       "    }\n",
       "\n",
       "    .dataframe thead th {\n",
       "        text-align: right;\n",
       "    }\n",
       "</style>\n",
       "<table border=\"1\" class=\"dataframe\">\n",
       "  <thead>\n",
       "    <tr style=\"text-align: right;\">\n",
       "      <th></th>\n",
       "      <th>SEQID</th>\n",
       "      <th>name</th>\n",
       "      <th>sequence</th>\n",
       "    </tr>\n",
       "  </thead>\n",
       "  <tbody>\n",
       "    <tr>\n",
       "      <th>0</th>\n",
       "      <td>WC202</td>\n",
       "      <td>RefSeq</td>\n",
       "      <td>GATAACGAAAGTTATC</td>\n",
       "    </tr>\n",
       "    <tr>\n",
       "      <th>1</th>\n",
       "      <td>WC1375</td>\n",
       "      <td>RefSeq</td>\n",
       "      <td>GTCAGGGAAACCTGAC</td>\n",
       "    </tr>\n",
       "    <tr>\n",
       "      <th>2</th>\n",
       "      <td>WC2287</td>\n",
       "      <td>RefSeq</td>\n",
       "      <td>GGCCGGGAAACCGGCC</td>\n",
       "    </tr>\n",
       "    <tr>\n",
       "      <th>3</th>\n",
       "      <td>WC202</td>\n",
       "      <td>stem_5p</td>\n",
       "      <td>GATAAC</td>\n",
       "    </tr>\n",
       "    <tr>\n",
       "      <th>4</th>\n",
       "      <td>WC1375</td>\n",
       "      <td>stem_5p</td>\n",
       "      <td>GTCAGG</td>\n",
       "    </tr>\n",
       "    <tr>\n",
       "      <th>5</th>\n",
       "      <td>WC2287</td>\n",
       "      <td>stem_5p</td>\n",
       "      <td>GGCCGG</td>\n",
       "    </tr>\n",
       "    <tr>\n",
       "      <th>6</th>\n",
       "      <td>WC202</td>\n",
       "      <td>stem_3p</td>\n",
       "      <td>GTTATC</td>\n",
       "    </tr>\n",
       "    <tr>\n",
       "      <th>7</th>\n",
       "      <td>WC1375</td>\n",
       "      <td>stem_3p</td>\n",
       "      <td>CCTGAC</td>\n",
       "    </tr>\n",
       "    <tr>\n",
       "      <th>8</th>\n",
       "      <td>WC2287</td>\n",
       "      <td>stem_3p</td>\n",
       "      <td>CCGGCC</td>\n",
       "    </tr>\n",
       "  </tbody>\n",
       "</table>\n",
       "</div>"
      ],
      "text/plain": [
       "    SEQID     name          sequence\n",
       "0   WC202   RefSeq  GATAACGAAAGTTATC\n",
       "1  WC1375   RefSeq  GTCAGGGAAACCTGAC\n",
       "2  WC2287   RefSeq  GGCCGGGAAACCGGCC\n",
       "3   WC202  stem_5p            GATAAC\n",
       "4  WC1375  stem_5p            GTCAGG\n",
       "5  WC2287  stem_5p            GGCCGG\n",
       "6   WC202  stem_3p            GTTATC\n",
       "7  WC1375  stem_3p            CCTGAC\n",
       "8  WC2287  stem_3p            CCGGCC"
      ]
     },
     "execution_count": 22,
     "metadata": {},
     "output_type": "execute_result"
    }
   ],
   "source": [
    "idt_df = df.reset_index()[['SEQID', 'RefSeq', 'stem_5p', 'stem_3p']].melt(id_vars=['SEQID'], var_name=['name'], value_name='sequence')"
   ]
  },
  {
   "cell_type": "code",
   "execution_count": 54,
   "id": "dc9b3dc1-1e05-4bf0-b19a-272be22b3b8b",
   "metadata": {},
   "outputs": [],
   "source": [
    "idt_df = df.reset_index()[['SEQID', 'RefSeq', 'stem_5p', 'stem_3p']].melt(id_vars=['SEQID'], var_name=['colname'], value_name='sequence')\n",
    "idt_df['seqname'] = idt_df.apply(lambda row: f'{row.SEQID}_{row[\"colname\"]}' if row[\"colname\"]!='RefSeq' else row.SEQID, axis=1)\n",
    "idt_df = idt_df.set_index('SEQID').sort_index()\n",
    "idt_df['scale'] = idt_df.apply(lambda row: '250nm' if row[\"colname\"]!='RefSeq' else '100nm', axis=1)\n",
    "idt_df['purification'] = idt_df.apply(lambda row: 'PAGE' if row[\"colname\"]!='RefSeq' else 'STD', axis=1)"
   ]
  },
  {
   "cell_type": "code",
   "execution_count": 55,
   "id": "a29039d2-e854-422b-b453-ff99c92cea73",
   "metadata": {},
   "outputs": [],
   "source": [
    "idt_df = idt_df.set_index('seqname').drop(columns='colname').reset_index()"
   ]
  },
  {
   "cell_type": "code",
   "execution_count": 56,
   "id": "f53b4ccb-4d94-4937-ae15-7172cad779ae",
   "metadata": {},
   "outputs": [],
   "source": [
    "idt_df.to_csv('./data/uv_melt/WC_3examples_sequence_split_IDT.csv', index=None)"
   ]
  },
  {
   "cell_type": "code",
   "execution_count": 57,
   "id": "460804ee-a6f7-4a2a-896a-9f69ca8d273e",
   "metadata": {},
   "outputs": [
    {
     "data": {
      "text/plain": [
       "4e-06"
      ]
     },
     "execution_count": 57,
     "metadata": {},
     "output_type": "execute_result"
    }
   ],
   "source": [
    "2*1e-9/(0.5*1e-3)"
   ]
  },
  {
   "cell_type": "code",
   "execution_count": 59,
   "id": "3e7c3d2c-459a-4caa-8621-eadb7af313ab",
   "metadata": {},
   "outputs": [],
   "source": [
    "idt_df.iloc[:3,:].to_csv('./data/uv_melt/WC1375_stem_IDT.csv', index=None)"
   ]
  },
  {
   "cell_type": "code",
   "execution_count": null,
   "id": "584fb29e-ad6b-4550-855a-fc09dc02e138",
   "metadata": {},
   "outputs": [],
   "source": []
  }
 ],
 "metadata": {
  "kernelspec": {
   "display_name": "Python 3 (ipykernel)",
   "language": "python",
   "name": "python3"
  },
  "language_info": {
   "codemirror_mode": {
    "name": "ipython",
    "version": 3
   },
   "file_extension": ".py",
   "mimetype": "text/x-python",
   "name": "python",
   "nbconvert_exporter": "python",
   "pygments_lexer": "ipython3",
   "version": "3.8.12"
  }
 },
 "nbformat": 4,
 "nbformat_minor": 5
}
